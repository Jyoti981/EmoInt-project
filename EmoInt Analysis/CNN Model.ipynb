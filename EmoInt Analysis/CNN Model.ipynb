{
 "cells": [
  {
   "cell_type": "code",
   "execution_count": 1,
   "id": "4fe90065",
   "metadata": {},
   "outputs": [],
   "source": [
    "# Importing necessary libraries\n",
    "import pandas as pd\n",
    "import numpy as np\n",
    "import string\n",
    "import re\n",
    "import tensorflow as tf\n",
    "from tensorflow.keras.models import Sequential\n",
    "from tensorflow.keras.layers import Embedding, Conv1D, MaxPooling1D, Flatten, Dense, Dropout\n",
    "from sklearn.model_selection import train_test_split\n",
    "from sklearn.metrics import mean_absolute_error\n",
    "from scipy.stats import pearsonr, spearmanr\n",
    "import matplotlib.pyplot as plt\n",
    "from tensorflow.keras.callbacks import EarlyStopping, ModelCheckpoint, LearningRateScheduler"
   ]
  },
  {
   "cell_type": "code",
   "execution_count": 2,
   "id": "48fc06dc",
   "metadata": {},
   "outputs": [],
   "source": [
    "# Load data\n",
    "anger_train = pd.read_csv(\"anger_train.csv\")\n",
    "fear_train = pd.read_csv(\"fear_train.csv\")\n",
    "joy_train = pd.read_csv(\"joy_train.csv\")\n",
    "sad_train = pd.read_csv(\"sadness_train.csv\")"
   ]
  },
  {
   "cell_type": "code",
   "execution_count": 3,
   "id": "92994cbc",
   "metadata": {},
   "outputs": [],
   "source": [
    "# Combine datasets\n",
    "frames = [anger_train, fear_train, joy_train, sad_train]\n",
    "data_training = pd.concat(frames)\n",
    "data_training.reset_index(inplace=True)"
   ]
  },
  {
   "cell_type": "code",
   "execution_count": 4,
   "id": "c4321dab",
   "metadata": {},
   "outputs": [
    {
     "data": {
      "text/html": [
       "<div>\n",
       "<style scoped>\n",
       "    .dataframe tbody tr th:only-of-type {\n",
       "        vertical-align: middle;\n",
       "    }\n",
       "\n",
       "    .dataframe tbody tr th {\n",
       "        vertical-align: top;\n",
       "    }\n",
       "\n",
       "    .dataframe thead th {\n",
       "        text-align: right;\n",
       "    }\n",
       "</style>\n",
       "<table border=\"1\" class=\"dataframe\">\n",
       "  <thead>\n",
       "    <tr style=\"text-align: right;\">\n",
       "      <th></th>\n",
       "      <th>index</th>\n",
       "      <th>id</th>\n",
       "      <th>text</th>\n",
       "      <th>label</th>\n",
       "      <th>intensity</th>\n",
       "    </tr>\n",
       "  </thead>\n",
       "  <tbody>\n",
       "    <tr>\n",
       "      <th>0</th>\n",
       "      <td>0</td>\n",
       "      <td>10000</td>\n",
       "      <td>How the fu*k! Who the heck! moved my fridge!.....</td>\n",
       "      <td>anger</td>\n",
       "      <td>0.938</td>\n",
       "    </tr>\n",
       "    <tr>\n",
       "      <th>1</th>\n",
       "      <td>1</td>\n",
       "      <td>10001</td>\n",
       "      <td>So my Indian Uber driver just called someone t...</td>\n",
       "      <td>anger</td>\n",
       "      <td>0.896</td>\n",
       "    </tr>\n",
       "    <tr>\n",
       "      <th>2</th>\n",
       "      <td>2</td>\n",
       "      <td>10002</td>\n",
       "      <td>@DPD_UK I asked for my parcel to be delivered ...</td>\n",
       "      <td>anger</td>\n",
       "      <td>0.896</td>\n",
       "    </tr>\n",
       "    <tr>\n",
       "      <th>3</th>\n",
       "      <td>3</td>\n",
       "      <td>10003</td>\n",
       "      <td>so ef whichever butt wipe pulled the fire alar...</td>\n",
       "      <td>anger</td>\n",
       "      <td>0.896</td>\n",
       "    </tr>\n",
       "    <tr>\n",
       "      <th>4</th>\n",
       "      <td>4</td>\n",
       "      <td>10004</td>\n",
       "      <td>Don't join @BTCare they put the phone down on ...</td>\n",
       "      <td>anger</td>\n",
       "      <td>0.896</td>\n",
       "    </tr>\n",
       "  </tbody>\n",
       "</table>\n",
       "</div>"
      ],
      "text/plain": [
       "   index     id                                               text  label  \\\n",
       "0      0  10000  How the fu*k! Who the heck! moved my fridge!.....  anger   \n",
       "1      1  10001  So my Indian Uber driver just called someone t...  anger   \n",
       "2      2  10002  @DPD_UK I asked for my parcel to be delivered ...  anger   \n",
       "3      3  10003  so ef whichever butt wipe pulled the fire alar...  anger   \n",
       "4      4  10004  Don't join @BTCare they put the phone down on ...  anger   \n",
       "\n",
       "   intensity  \n",
       "0      0.938  \n",
       "1      0.896  \n",
       "2      0.896  \n",
       "3      0.896  \n",
       "4      0.896  "
      ]
     },
     "execution_count": 4,
     "metadata": {},
     "output_type": "execute_result"
    }
   ],
   "source": [
    "data_training.head()"
   ]
  },
  {
   "cell_type": "code",
   "execution_count": 5,
   "id": "377009bb",
   "metadata": {},
   "outputs": [
    {
     "data": {
      "text/html": [
       "<div>\n",
       "<style scoped>\n",
       "    .dataframe tbody tr th:only-of-type {\n",
       "        vertical-align: middle;\n",
       "    }\n",
       "\n",
       "    .dataframe tbody tr th {\n",
       "        vertical-align: top;\n",
       "    }\n",
       "\n",
       "    .dataframe thead th {\n",
       "        text-align: right;\n",
       "    }\n",
       "</style>\n",
       "<table border=\"1\" class=\"dataframe\">\n",
       "  <thead>\n",
       "    <tr style=\"text-align: right;\">\n",
       "      <th></th>\n",
       "      <th>index</th>\n",
       "      <th>id</th>\n",
       "      <th>text</th>\n",
       "      <th>label</th>\n",
       "      <th>intensity</th>\n",
       "    </tr>\n",
       "  </thead>\n",
       "  <tbody>\n",
       "    <tr>\n",
       "      <th>3608</th>\n",
       "      <td>781</td>\n",
       "      <td>40781</td>\n",
       "      <td>@VivienLloyd Thank you so much! Just home - st...</td>\n",
       "      <td>sadness</td>\n",
       "      <td>0.104</td>\n",
       "    </tr>\n",
       "    <tr>\n",
       "      <th>3609</th>\n",
       "      <td>782</td>\n",
       "      <td>40782</td>\n",
       "      <td>Just put the winter duvet on ☃️❄️🌬☔️</td>\n",
       "      <td>sadness</td>\n",
       "      <td>0.104</td>\n",
       "    </tr>\n",
       "    <tr>\n",
       "      <th>3610</th>\n",
       "      <td>783</td>\n",
       "      <td>40783</td>\n",
       "      <td>@SilkInSide @TommyJoeRatliff that's so pretty!...</td>\n",
       "      <td>sadness</td>\n",
       "      <td>0.088</td>\n",
       "    </tr>\n",
       "    <tr>\n",
       "      <th>3611</th>\n",
       "      <td>784</td>\n",
       "      <td>40784</td>\n",
       "      <td>@BluesfestByron second artist announcement loo...</td>\n",
       "      <td>sadness</td>\n",
       "      <td>0.083</td>\n",
       "    </tr>\n",
       "    <tr>\n",
       "      <th>3612</th>\n",
       "      <td>785</td>\n",
       "      <td>40785</td>\n",
       "      <td>I can literally eat creamy pesto pasta topped ...</td>\n",
       "      <td>sadness</td>\n",
       "      <td>0.083</td>\n",
       "    </tr>\n",
       "  </tbody>\n",
       "</table>\n",
       "</div>"
      ],
      "text/plain": [
       "      index     id                                               text  \\\n",
       "3608    781  40781  @VivienLloyd Thank you so much! Just home - st...   \n",
       "3609    782  40782              Just put the winter duvet on ☃️❄️🌬☔️    \n",
       "3610    783  40783  @SilkInSide @TommyJoeRatliff that's so pretty!...   \n",
       "3611    784  40784  @BluesfestByron second artist announcement loo...   \n",
       "3612    785  40785  I can literally eat creamy pesto pasta topped ...   \n",
       "\n",
       "        label  intensity  \n",
       "3608  sadness      0.104  \n",
       "3609  sadness      0.104  \n",
       "3610  sadness      0.088  \n",
       "3611  sadness      0.083  \n",
       "3612  sadness      0.083  "
      ]
     },
     "execution_count": 5,
     "metadata": {},
     "output_type": "execute_result"
    }
   ],
   "source": [
    "data_training.tail()"
   ]
  },
  {
   "cell_type": "code",
   "execution_count": 6,
   "id": "e45216c4",
   "metadata": {},
   "outputs": [],
   "source": [
    "# Text cleaning function\n",
    "def clean_text(text):\n",
    "    text = re.sub(r'@[A-Za-z0-9_]+|https?://[A-Za-z0-9./]+|[^a-zA-Z]', ' ', text)\n",
    "    return text.lower()\n"
   ]
  },
  {
   "cell_type": "code",
   "execution_count": 7,
   "id": "44f443d4",
   "metadata": {},
   "outputs": [],
   "source": [
    "# Apply text cleaning\n",
    "data_training['clean_text'] = data_training['text'].apply(clean_text)\n"
   ]
  },
  {
   "cell_type": "code",
   "execution_count": 8,
   "id": "4e88b541",
   "metadata": {},
   "outputs": [
    {
     "data": {
      "text/html": [
       "<div>\n",
       "<style scoped>\n",
       "    .dataframe tbody tr th:only-of-type {\n",
       "        vertical-align: middle;\n",
       "    }\n",
       "\n",
       "    .dataframe tbody tr th {\n",
       "        vertical-align: top;\n",
       "    }\n",
       "\n",
       "    .dataframe thead th {\n",
       "        text-align: right;\n",
       "    }\n",
       "</style>\n",
       "<table border=\"1\" class=\"dataframe\">\n",
       "  <thead>\n",
       "    <tr style=\"text-align: right;\">\n",
       "      <th></th>\n",
       "      <th>index</th>\n",
       "      <th>id</th>\n",
       "      <th>text</th>\n",
       "      <th>label</th>\n",
       "      <th>intensity</th>\n",
       "      <th>clean_text</th>\n",
       "    </tr>\n",
       "  </thead>\n",
       "  <tbody>\n",
       "    <tr>\n",
       "      <th>3608</th>\n",
       "      <td>781</td>\n",
       "      <td>40781</td>\n",
       "      <td>@VivienLloyd Thank you so much! Just home - st...</td>\n",
       "      <td>sadness</td>\n",
       "      <td>0.104</td>\n",
       "      <td>thank you so much  just home   stunned but s...</td>\n",
       "    </tr>\n",
       "    <tr>\n",
       "      <th>3609</th>\n",
       "      <td>782</td>\n",
       "      <td>40782</td>\n",
       "      <td>Just put the winter duvet on ☃️❄️🌬☔️</td>\n",
       "      <td>sadness</td>\n",
       "      <td>0.104</td>\n",
       "      <td>just put the winter duvet on</td>\n",
       "    </tr>\n",
       "    <tr>\n",
       "      <th>3610</th>\n",
       "      <td>783</td>\n",
       "      <td>40783</td>\n",
       "      <td>@SilkInSide @TommyJoeRatliff that's so pretty!...</td>\n",
       "      <td>sadness</td>\n",
       "      <td>0.088</td>\n",
       "      <td>that s so pretty  i love the sky in the ba...</td>\n",
       "    </tr>\n",
       "    <tr>\n",
       "      <th>3611</th>\n",
       "      <td>784</td>\n",
       "      <td>40784</td>\n",
       "      <td>@BluesfestByron second artist announcement loo...</td>\n",
       "      <td>sadness</td>\n",
       "      <td>0.083</td>\n",
       "      <td>second artist announcement looking good  blu...</td>\n",
       "    </tr>\n",
       "    <tr>\n",
       "      <th>3612</th>\n",
       "      <td>785</td>\n",
       "      <td>40785</td>\n",
       "      <td>I can literally eat creamy pesto pasta topped ...</td>\n",
       "      <td>sadness</td>\n",
       "      <td>0.083</td>\n",
       "      <td>i can literally eat creamy pesto pasta topped ...</td>\n",
       "    </tr>\n",
       "  </tbody>\n",
       "</table>\n",
       "</div>"
      ],
      "text/plain": [
       "      index     id                                               text  \\\n",
       "3608    781  40781  @VivienLloyd Thank you so much! Just home - st...   \n",
       "3609    782  40782              Just put the winter duvet on ☃️❄️🌬☔️    \n",
       "3610    783  40783  @SilkInSide @TommyJoeRatliff that's so pretty!...   \n",
       "3611    784  40784  @BluesfestByron second artist announcement loo...   \n",
       "3612    785  40785  I can literally eat creamy pesto pasta topped ...   \n",
       "\n",
       "        label  intensity                                         clean_text  \n",
       "3608  sadness      0.104    thank you so much  just home   stunned but s...  \n",
       "3609  sadness      0.104              just put the winter duvet on           \n",
       "3610  sadness      0.088      that s so pretty  i love the sky in the ba...  \n",
       "3611  sadness      0.083    second artist announcement looking good  blu...  \n",
       "3612  sadness      0.083  i can literally eat creamy pesto pasta topped ...  "
      ]
     },
     "execution_count": 8,
     "metadata": {},
     "output_type": "execute_result"
    }
   ],
   "source": [
    "data_training.tail()"
   ]
  },
  {
   "cell_type": "code",
   "execution_count": 9,
   "id": "c2356c1e",
   "metadata": {},
   "outputs": [],
   "source": [
    "# Tokenize text\n",
    "tokenizer = tf.keras.preprocessing.text.Tokenizer(num_words=10000)\n",
    "tokenizer.fit_on_texts(data_training['clean_text'])\n",
    "X = tokenizer.texts_to_sequences(data_training['clean_text'])\n",
    "X = tf.keras.preprocessing.sequence.pad_sequences(X, maxlen=100)"
   ]
  },
  {
   "cell_type": "code",
   "execution_count": 10,
   "id": "a22825d0",
   "metadata": {},
   "outputs": [],
   "source": [
    "# Split data into train and validation sets\n",
    "X_train, X_val, y_train, y_val = train_test_split(X, data_training['intensity'], test_size=0.2, random_state=42)"
   ]
  },
  {
   "cell_type": "code",
   "execution_count": 12,
   "id": "83f8d92a",
   "metadata": {},
   "outputs": [],
   "source": [
    "# Define a different CNN model\n",
    "model = Sequential([\n",
    "    Embedding(input_dim=len(tokenizer.word_index) + 1, output_dim=50),\n",
    "    Conv1D(64, 3, activation='relu'),\n",
    "    MaxPooling1D(2),\n",
    "    Conv1D(128, 3, activation='relu'),\n",
    "    MaxPooling1D(2),\n",
    "    Flatten(),\n",
    "    Dense(64, activation='relu'),\n",
    "    Dropout(0.5),\n",
    "    Dense(1, activation='sigmoid')\n",
    "])"
   ]
  },
  {
   "cell_type": "code",
   "execution_count": 13,
   "id": "8b5efed9",
   "metadata": {},
   "outputs": [],
   "source": [
    "# Compile model\n",
    "model.compile(optimizer='adam', loss='mean_squared_error', metrics=['mae'])"
   ]
  },
  {
   "cell_type": "code",
   "execution_count": 14,
   "id": "a9249a28",
   "metadata": {},
   "outputs": [],
   "source": [
    "# Define callbacks\n",
    "early_stopping = EarlyStopping(monitor='val_loss', patience=3, restore_best_weights=True)\n",
    "model_checkpoint = ModelCheckpoint(filepath='best_model.keras', monitor='val_loss', save_best_only=True)\n",
    "def lr_scheduler(epoch, lr):\n",
    "    if epoch % 5 == 0:\n",
    "        return lr * 0.9\n",
    "    else:\n",
    "        return lr\n",
    "learning_rate_scheduler = LearningRateScheduler(lr_scheduler)"
   ]
  },
  {
   "cell_type": "code",
   "execution_count": 15,
   "id": "771e2b76",
   "metadata": {},
   "outputs": [
    {
     "name": "stdout",
     "output_type": "stream",
     "text": [
      "Epoch 1/20\n",
      "\u001b[1m91/91\u001b[0m \u001b[32m━━━━━━━━━━━━━━━━━━━━\u001b[0m\u001b[37m\u001b[0m \u001b[1m3s\u001b[0m 13ms/step - loss: 0.0362 - mae: 0.1554 - val_loss: 0.0353 - val_mae: 0.1527 - learning_rate: 9.0000e-04\n",
      "Epoch 2/20\n",
      "\u001b[1m91/91\u001b[0m \u001b[32m━━━━━━━━━━━━━━━━━━━━\u001b[0m\u001b[37m\u001b[0m \u001b[1m1s\u001b[0m 11ms/step - loss: 0.0362 - mae: 0.1556 - val_loss: 0.0344 - val_mae: 0.1505 - learning_rate: 9.0000e-04\n",
      "Epoch 3/20\n",
      "\u001b[1m91/91\u001b[0m \u001b[32m━━━━━━━━━━━━━━━━━━━━\u001b[0m\u001b[37m\u001b[0m \u001b[1m1s\u001b[0m 11ms/step - loss: 0.0246 - mae: 0.1238 - val_loss: 0.0326 - val_mae: 0.1454 - learning_rate: 9.0000e-04\n",
      "Epoch 4/20\n",
      "\u001b[1m91/91\u001b[0m \u001b[32m━━━━━━━━━━━━━━━━━━━━\u001b[0m\u001b[37m\u001b[0m \u001b[1m1s\u001b[0m 13ms/step - loss: 0.0141 - mae: 0.0915 - val_loss: 0.0331 - val_mae: 0.1459 - learning_rate: 9.0000e-04\n",
      "Epoch 5/20\n",
      "\u001b[1m91/91\u001b[0m \u001b[32m━━━━━━━━━━━━━━━━━━━━\u001b[0m\u001b[37m\u001b[0m \u001b[1m1s\u001b[0m 12ms/step - loss: 0.0097 - mae: 0.0754 - val_loss: 0.0345 - val_mae: 0.1491 - learning_rate: 9.0000e-04\n",
      "Epoch 6/20\n",
      "\u001b[1m91/91\u001b[0m \u001b[32m━━━━━━━━━━━━━━━━━━━━\u001b[0m\u001b[37m\u001b[0m \u001b[1m1s\u001b[0m 10ms/step - loss: 0.0066 - mae: 0.0610 - val_loss: 0.0353 - val_mae: 0.1502 - learning_rate: 8.1000e-04\n"
     ]
    }
   ],
   "source": [
    "# Train model\n",
    "history = model.fit(X_train, y_train, epochs=20, batch_size=32, \n",
    "                    validation_data=(X_val, y_val), \n",
    "                    callbacks=[early_stopping, model_checkpoint, learning_rate_scheduler])"
   ]
  },
  {
   "cell_type": "code",
   "execution_count": 16,
   "id": "2d0b9207",
   "metadata": {},
   "outputs": [],
   "source": [
    "# Load best model\n",
    "model.load_weights('best_model.keras')"
   ]
  },
  {
   "cell_type": "code",
   "execution_count": 17,
   "id": "4bd0035e",
   "metadata": {},
   "outputs": [
    {
     "data": {
      "text/html": [
       "<pre style=\"white-space:pre;overflow-x:auto;line-height:normal;font-family:Menlo,'DejaVu Sans Mono',consolas,'Courier New',monospace\"><span style=\"font-weight: bold\">Model: \"sequential\"</span>\n",
       "</pre>\n"
      ],
      "text/plain": [
       "\u001b[1mModel: \"sequential\"\u001b[0m\n"
      ]
     },
     "metadata": {},
     "output_type": "display_data"
    },
    {
     "data": {
      "text/html": [
       "<pre style=\"white-space:pre;overflow-x:auto;line-height:normal;font-family:Menlo,'DejaVu Sans Mono',consolas,'Courier New',monospace\">┏━━━━━━━━━━━━━━━━━━━━━━━━━━━━━━━━━━━━━━┳━━━━━━━━━━━━━━━━━━━━━━━━━━━━━┳━━━━━━━━━━━━━━━━━┓\n",
       "┃<span style=\"font-weight: bold\"> Layer (type)                         </span>┃<span style=\"font-weight: bold\"> Output Shape                </span>┃<span style=\"font-weight: bold\">         Param # </span>┃\n",
       "┡━━━━━━━━━━━━━━━━━━━━━━━━━━━━━━━━━━━━━━╇━━━━━━━━━━━━━━━━━━━━━━━━━━━━━╇━━━━━━━━━━━━━━━━━┩\n",
       "│ embedding_1 (<span style=\"color: #0087ff; text-decoration-color: #0087ff\">Embedding</span>)              │ (<span style=\"color: #00d7ff; text-decoration-color: #00d7ff\">None</span>, <span style=\"color: #00af00; text-decoration-color: #00af00\">100</span>, <span style=\"color: #00af00; text-decoration-color: #00af00\">50</span>)             │         <span style=\"color: #00af00; text-decoration-color: #00af00\">409,700</span> │\n",
       "├──────────────────────────────────────┼─────────────────────────────┼─────────────────┤\n",
       "│ conv1d (<span style=\"color: #0087ff; text-decoration-color: #0087ff\">Conv1D</span>)                      │ (<span style=\"color: #00d7ff; text-decoration-color: #00d7ff\">None</span>, <span style=\"color: #00af00; text-decoration-color: #00af00\">98</span>, <span style=\"color: #00af00; text-decoration-color: #00af00\">64</span>)              │           <span style=\"color: #00af00; text-decoration-color: #00af00\">9,664</span> │\n",
       "├──────────────────────────────────────┼─────────────────────────────┼─────────────────┤\n",
       "│ max_pooling1d (<span style=\"color: #0087ff; text-decoration-color: #0087ff\">MaxPooling1D</span>)         │ (<span style=\"color: #00d7ff; text-decoration-color: #00d7ff\">None</span>, <span style=\"color: #00af00; text-decoration-color: #00af00\">49</span>, <span style=\"color: #00af00; text-decoration-color: #00af00\">64</span>)              │               <span style=\"color: #00af00; text-decoration-color: #00af00\">0</span> │\n",
       "├──────────────────────────────────────┼─────────────────────────────┼─────────────────┤\n",
       "│ conv1d_1 (<span style=\"color: #0087ff; text-decoration-color: #0087ff\">Conv1D</span>)                    │ (<span style=\"color: #00d7ff; text-decoration-color: #00d7ff\">None</span>, <span style=\"color: #00af00; text-decoration-color: #00af00\">47</span>, <span style=\"color: #00af00; text-decoration-color: #00af00\">128</span>)             │          <span style=\"color: #00af00; text-decoration-color: #00af00\">24,704</span> │\n",
       "├──────────────────────────────────────┼─────────────────────────────┼─────────────────┤\n",
       "│ max_pooling1d_1 (<span style=\"color: #0087ff; text-decoration-color: #0087ff\">MaxPooling1D</span>)       │ (<span style=\"color: #00d7ff; text-decoration-color: #00d7ff\">None</span>, <span style=\"color: #00af00; text-decoration-color: #00af00\">23</span>, <span style=\"color: #00af00; text-decoration-color: #00af00\">128</span>)             │               <span style=\"color: #00af00; text-decoration-color: #00af00\">0</span> │\n",
       "├──────────────────────────────────────┼─────────────────────────────┼─────────────────┤\n",
       "│ flatten (<span style=\"color: #0087ff; text-decoration-color: #0087ff\">Flatten</span>)                    │ (<span style=\"color: #00d7ff; text-decoration-color: #00d7ff\">None</span>, <span style=\"color: #00af00; text-decoration-color: #00af00\">2944</span>)                │               <span style=\"color: #00af00; text-decoration-color: #00af00\">0</span> │\n",
       "├──────────────────────────────────────┼─────────────────────────────┼─────────────────┤\n",
       "│ dense (<span style=\"color: #0087ff; text-decoration-color: #0087ff\">Dense</span>)                        │ (<span style=\"color: #00d7ff; text-decoration-color: #00d7ff\">None</span>, <span style=\"color: #00af00; text-decoration-color: #00af00\">64</span>)                  │         <span style=\"color: #00af00; text-decoration-color: #00af00\">188,480</span> │\n",
       "├──────────────────────────────────────┼─────────────────────────────┼─────────────────┤\n",
       "│ dropout (<span style=\"color: #0087ff; text-decoration-color: #0087ff\">Dropout</span>)                    │ (<span style=\"color: #00d7ff; text-decoration-color: #00d7ff\">None</span>, <span style=\"color: #00af00; text-decoration-color: #00af00\">64</span>)                  │               <span style=\"color: #00af00; text-decoration-color: #00af00\">0</span> │\n",
       "├──────────────────────────────────────┼─────────────────────────────┼─────────────────┤\n",
       "│ dense_1 (<span style=\"color: #0087ff; text-decoration-color: #0087ff\">Dense</span>)                      │ (<span style=\"color: #00d7ff; text-decoration-color: #00d7ff\">None</span>, <span style=\"color: #00af00; text-decoration-color: #00af00\">1</span>)                   │              <span style=\"color: #00af00; text-decoration-color: #00af00\">65</span> │\n",
       "└──────────────────────────────────────┴─────────────────────────────┴─────────────────┘\n",
       "</pre>\n"
      ],
      "text/plain": [
       "┏━━━━━━━━━━━━━━━━━━━━━━━━━━━━━━━━━━━━━━┳━━━━━━━━━━━━━━━━━━━━━━━━━━━━━┳━━━━━━━━━━━━━━━━━┓\n",
       "┃\u001b[1m \u001b[0m\u001b[1mLayer (type)                        \u001b[0m\u001b[1m \u001b[0m┃\u001b[1m \u001b[0m\u001b[1mOutput Shape               \u001b[0m\u001b[1m \u001b[0m┃\u001b[1m \u001b[0m\u001b[1m        Param #\u001b[0m\u001b[1m \u001b[0m┃\n",
       "┡━━━━━━━━━━━━━━━━━━━━━━━━━━━━━━━━━━━━━━╇━━━━━━━━━━━━━━━━━━━━━━━━━━━━━╇━━━━━━━━━━━━━━━━━┩\n",
       "│ embedding_1 (\u001b[38;5;33mEmbedding\u001b[0m)              │ (\u001b[38;5;45mNone\u001b[0m, \u001b[38;5;34m100\u001b[0m, \u001b[38;5;34m50\u001b[0m)             │         \u001b[38;5;34m409,700\u001b[0m │\n",
       "├──────────────────────────────────────┼─────────────────────────────┼─────────────────┤\n",
       "│ conv1d (\u001b[38;5;33mConv1D\u001b[0m)                      │ (\u001b[38;5;45mNone\u001b[0m, \u001b[38;5;34m98\u001b[0m, \u001b[38;5;34m64\u001b[0m)              │           \u001b[38;5;34m9,664\u001b[0m │\n",
       "├──────────────────────────────────────┼─────────────────────────────┼─────────────────┤\n",
       "│ max_pooling1d (\u001b[38;5;33mMaxPooling1D\u001b[0m)         │ (\u001b[38;5;45mNone\u001b[0m, \u001b[38;5;34m49\u001b[0m, \u001b[38;5;34m64\u001b[0m)              │               \u001b[38;5;34m0\u001b[0m │\n",
       "├──────────────────────────────────────┼─────────────────────────────┼─────────────────┤\n",
       "│ conv1d_1 (\u001b[38;5;33mConv1D\u001b[0m)                    │ (\u001b[38;5;45mNone\u001b[0m, \u001b[38;5;34m47\u001b[0m, \u001b[38;5;34m128\u001b[0m)             │          \u001b[38;5;34m24,704\u001b[0m │\n",
       "├──────────────────────────────────────┼─────────────────────────────┼─────────────────┤\n",
       "│ max_pooling1d_1 (\u001b[38;5;33mMaxPooling1D\u001b[0m)       │ (\u001b[38;5;45mNone\u001b[0m, \u001b[38;5;34m23\u001b[0m, \u001b[38;5;34m128\u001b[0m)             │               \u001b[38;5;34m0\u001b[0m │\n",
       "├──────────────────────────────────────┼─────────────────────────────┼─────────────────┤\n",
       "│ flatten (\u001b[38;5;33mFlatten\u001b[0m)                    │ (\u001b[38;5;45mNone\u001b[0m, \u001b[38;5;34m2944\u001b[0m)                │               \u001b[38;5;34m0\u001b[0m │\n",
       "├──────────────────────────────────────┼─────────────────────────────┼─────────────────┤\n",
       "│ dense (\u001b[38;5;33mDense\u001b[0m)                        │ (\u001b[38;5;45mNone\u001b[0m, \u001b[38;5;34m64\u001b[0m)                  │         \u001b[38;5;34m188,480\u001b[0m │\n",
       "├──────────────────────────────────────┼─────────────────────────────┼─────────────────┤\n",
       "│ dropout (\u001b[38;5;33mDropout\u001b[0m)                    │ (\u001b[38;5;45mNone\u001b[0m, \u001b[38;5;34m64\u001b[0m)                  │               \u001b[38;5;34m0\u001b[0m │\n",
       "├──────────────────────────────────────┼─────────────────────────────┼─────────────────┤\n",
       "│ dense_1 (\u001b[38;5;33mDense\u001b[0m)                      │ (\u001b[38;5;45mNone\u001b[0m, \u001b[38;5;34m1\u001b[0m)                   │              \u001b[38;5;34m65\u001b[0m │\n",
       "└──────────────────────────────────────┴─────────────────────────────┴─────────────────┘\n"
      ]
     },
     "metadata": {},
     "output_type": "display_data"
    },
    {
     "data": {
      "text/html": [
       "<pre style=\"white-space:pre;overflow-x:auto;line-height:normal;font-family:Menlo,'DejaVu Sans Mono',consolas,'Courier New',monospace\"><span style=\"font-weight: bold\"> Total params: </span><span style=\"color: #00af00; text-decoration-color: #00af00\">1,897,841</span> (7.24 MB)\n",
       "</pre>\n"
      ],
      "text/plain": [
       "\u001b[1m Total params: \u001b[0m\u001b[38;5;34m1,897,841\u001b[0m (7.24 MB)\n"
      ]
     },
     "metadata": {},
     "output_type": "display_data"
    },
    {
     "data": {
      "text/html": [
       "<pre style=\"white-space:pre;overflow-x:auto;line-height:normal;font-family:Menlo,'DejaVu Sans Mono',consolas,'Courier New',monospace\"><span style=\"font-weight: bold\"> Trainable params: </span><span style=\"color: #00af00; text-decoration-color: #00af00\">632,613</span> (2.41 MB)\n",
       "</pre>\n"
      ],
      "text/plain": [
       "\u001b[1m Trainable params: \u001b[0m\u001b[38;5;34m632,613\u001b[0m (2.41 MB)\n"
      ]
     },
     "metadata": {},
     "output_type": "display_data"
    },
    {
     "data": {
      "text/html": [
       "<pre style=\"white-space:pre;overflow-x:auto;line-height:normal;font-family:Menlo,'DejaVu Sans Mono',consolas,'Courier New',monospace\"><span style=\"font-weight: bold\"> Non-trainable params: </span><span style=\"color: #00af00; text-decoration-color: #00af00\">0</span> (0.00 B)\n",
       "</pre>\n"
      ],
      "text/plain": [
       "\u001b[1m Non-trainable params: \u001b[0m\u001b[38;5;34m0\u001b[0m (0.00 B)\n"
      ]
     },
     "metadata": {},
     "output_type": "display_data"
    },
    {
     "data": {
      "text/html": [
       "<pre style=\"white-space:pre;overflow-x:auto;line-height:normal;font-family:Menlo,'DejaVu Sans Mono',consolas,'Courier New',monospace\"><span style=\"font-weight: bold\"> Optimizer params: </span><span style=\"color: #00af00; text-decoration-color: #00af00\">1,265,228</span> (4.83 MB)\n",
       "</pre>\n"
      ],
      "text/plain": [
       "\u001b[1m Optimizer params: \u001b[0m\u001b[38;5;34m1,265,228\u001b[0m (4.83 MB)\n"
      ]
     },
     "metadata": {},
     "output_type": "display_data"
    }
   ],
   "source": [
    "# Model summary\n",
    "model.summary()"
   ]
  },
  {
   "cell_type": "code",
   "execution_count": 18,
   "id": "a9e00bc9",
   "metadata": {},
   "outputs": [
    {
     "data": {
      "image/png": "[encoded data removed]",
      "text/plain": [
       "<Figure size 640x480 with 1 Axes>"
      ]
     },
     "metadata": {},
     "output_type": "display_data"
    }
   ],
   "source": [
    "# Plot training and validation loss curves\n",
    "plt.plot(history.history['loss'], label='Training Loss')\n",
    "plt.plot(history.history['val_loss'], label='Validation Loss')\n",
    "plt.xlabel('Epoch')\n",
    "plt.ylabel('Loss')\n",
    "plt.legend()\n",
    "plt.show()"
   ]
  },
  {
   "cell_type": "code",
   "execution_count": 19,
   "id": "560e7058",
   "metadata": {},
   "outputs": [],
   "source": [
    "# Load test data\n",
    "anger_test = pd.read_csv(\"anger_test.csv\")\n",
    "fear_test = pd.read_csv(\"fear_test.csv\")\n",
    "joy_test = pd.read_csv(\"joy_test.csv\")\n",
    "sad_test = pd.read_csv(\"sadness_test.csv\")"
   ]
  },
  {
   "cell_type": "code",
   "execution_count": 20,
   "id": "227ae448",
   "metadata": {},
   "outputs": [],
   "source": [
    "# Clean and tokenize test data\n",
    "anger_test['clean_text'] = anger_test['text'].apply(clean_text)\n",
    "X_anger_test = tokenizer.texts_to_sequences(anger_test['clean_text'])\n",
    "X_anger_test = tf.keras.preprocessing.sequence.pad_sequences(X_anger_test, maxlen=100)\n",
    "\n",
    "fear_test['clean_text'] = fear_test['text'].apply(clean_text)\n",
    "X_fear_test = tokenizer.texts_to_sequences(fear_test['clean_text'])\n",
    "X_fear_test = tf.keras.preprocessing.sequence.pad_sequences(X_fear_test, maxlen=100)\n",
    "\n",
    "joy_test['clean_text'] = joy_test['text'].apply(clean_text)\n",
    "X_joy_test = tokenizer.texts_to_sequences(joy_test['clean_text'])\n",
    "X_joy_test = tf.keras.preprocessing.sequence.pad_sequences(X_joy_test, maxlen=100)\n",
    "\n",
    "sad_test['clean_text'] = sad_test['text'].apply(clean_text)\n",
    "X_sad_test = tokenizer.texts_to_sequences(sad_test['clean_text'])\n",
    "X_sad_test = tf.keras.preprocessing.sequence.pad_sequences(X_sad_test, maxlen=100)\n"
   ]
  },
  {
   "cell_type": "code",
   "execution_count": 21,
   "id": "77aabc48",
   "metadata": {},
   "outputs": [
    {
     "name": "stdout",
     "output_type": "stream",
     "text": [
      "\u001b[1m24/24\u001b[0m \u001b[32m━━━━━━━━━━━━━━━━━━━━\u001b[0m\u001b[37m\u001b[0m \u001b[1m0s\u001b[0m 5ms/step\n",
      "\u001b[1m32/32\u001b[0m \u001b[32m━━━━━━━━━━━━━━━━━━━━\u001b[0m\u001b[37m\u001b[0m \u001b[1m0s\u001b[0m 2ms/step\n",
      "\u001b[1m23/23\u001b[0m \u001b[32m━━━━━━━━━━━━━━━━━━━━\u001b[0m\u001b[37m\u001b[0m \u001b[1m0s\u001b[0m 2ms/step \n",
      "\u001b[1m22/22\u001b[0m \u001b[32m━━━━━━━━━━━━━━━━━━━━\u001b[0m\u001b[37m\u001b[0m \u001b[1m0s\u001b[0m 3ms/step\n"
     ]
    }
   ],
   "source": [
    "# Make predictions\n",
    "Y_anger_predicted = model.predict(X_anger_test)\n",
    "Y_fear_predicted = model.predict(X_fear_test)\n",
    "Y_joy_predicted = model.predict(X_joy_test)\n",
    "Y_sad_predicted = model.predict(X_sad_test)"
   ]
  },
  {
   "cell_type": "code",
   "execution_count": 24,
   "id": "cf1fb751",
   "metadata": {},
   "outputs": [
    {
     "name": "stdout",
     "output_type": "stream",
     "text": [
      "Mean Absolute Error for Anger: 0.13863771670680297\n",
      "Mean Absolute Error for Fear: 0.15557384373818212\n",
      "Mean Absolute Error for Joy: 0.17643857258441403\n",
      "Mean Absolute Error for Sadness: 0.15866560733477747\n"
     ]
    }
   ],
   "source": [
    "# Calculate Mean Absolute Error (MAE) for each emotion category\n",
    "anger_mae = mean_absolute_error(anger_test['intensity'], Y_anger_predicted[:, 0])\n",
    "fear_mae = mean_absolute_error(fear_test['intensity'], Y_fear_predicted[:, 0])\n",
    "joy_mae = mean_absolute_error(joy_test['intensity'], Y_joy_predicted[:, 0])\n",
    "sad_mae = mean_absolute_error(sad_test['intensity'], Y_sad_predicted[:, 0])\n",
    "\n",
    "# Print MAE for each emotion category\n",
    "print(\"Mean Absolute Error for Anger:\", anger_mae)\n",
    "print(\"Mean Absolute Error for Fear:\", fear_mae)\n",
    "print(\"Mean Absolute Error for Joy:\", joy_mae)\n",
    "print(\"Mean Absolute Error for Sadness:\", sad_mae)"
   ]
  },
  {
   "cell_type": "code",
   "execution_count": 22,
   "id": "2362ae0d",
   "metadata": {},
   "outputs": [],
   "source": [
    "# Evaluate the model\n",
    "anger_pearson = pearsonr(anger_test['intensity'], Y_anger_predicted[:, 0])[0]\n",
    "fear_pearson = pearsonr(fear_test['intensity'], Y_fear_predicted[:, 0])[0]\n",
    "joy_pearson = pearsonr(joy_test['intensity'], Y_joy_predicted[:, 0])[0]\n",
    "sad_pearson = pearsonr(sad_test['intensity'], Y_sad_predicted[:, 0])[0]"
   ]
  },
  {
   "cell_type": "code",
   "execution_count": 23,
   "id": "32bdc5d5",
   "metadata": {},
   "outputs": [
    {
     "name": "stdout",
     "output_type": "stream",
     "text": [
      "Pearson Correlation for Anger: 0.24608236331612193\n",
      "Pearson Correlation for Fear: 0.3271942614919348\n",
      "Pearson Correlation for Joy: 0.19278886900593584\n",
      "Pearson Correlation for Sadness: 0.32923789296671463\n"
     ]
    }
   ],
   "source": [
    "print(\"Pearson Correlation for Anger:\", anger_pearson)\n",
    "print(\"Pearson Correlation for Fear:\", fear_pearson)\n",
    "print(\"Pearson Correlation for Joy:\", joy_pearson)\n",
    "print(\"Pearson Correlation for Sadness:\", sad_pearson)"
   ]
  },
  {
   "cell_type": "code",
   "execution_count": 25,
   "id": "6f26f8bd",
   "metadata": {},
   "outputs": [
    {
     "name": "stdout",
     "output_type": "stream",
     "text": [
      "Spearman Correlation for Anger: 0.22455208646625888\n",
      "Spearman Correlation for Fear: 0.3168272297477534\n",
      "Spearman Correlation for Joy: 0.1941883563036288\n",
      "Spearman Correlation for Sadness: 0.31672479580832846\n"
     ]
    }
   ],
   "source": [
    "# Spearman correlation\n",
    "anger_spearman = spearmanr(anger_test['intensity'], Y_anger_predicted[:, 0])[0]\n",
    "fear_spearman = spearmanr(fear_test['intensity'], Y_fear_predicted[:, 0])[0]\n",
    "joy_spearman = spearmanr(joy_test['intensity'], Y_joy_predicted[:, 0])[0]\n",
    "sad_spearman = spearmanr(sad_test['intensity'], Y_sad_predicted[:, 0])[0]\n",
    "\n",
    "print(\"Spearman Correlation for Anger:\", anger_spearman)\n",
    "print(\"Spearman Correlation for Fear:\", fear_spearman)\n",
    "print(\"Spearman Correlation for Joy:\", joy_spearman)\n",
    "print(\"Spearman Correlation for Sadness:\", sad_spearman)\n"
   ]
  },
  {
   "cell_type": "code",
   "execution_count": 26,
   "id": "fdd9777b",
   "metadata": {},
   "outputs": [],
   "source": [
    "# Correlation scores on high intensity subset\n",
    "high_intensity_subset = pd.concat([anger_test[anger_test['intensity'] >= 0.5],\n",
    "                                   fear_test[fear_test['intensity'] >= 0.5],\n",
    "                                   joy_test[joy_test['intensity'] >= 0.5],\n",
    "                                   sad_test[sad_test['intensity'] >= 0.5]])\n",
    "\n",
    "Y_high_intensity_predicted = np.concatenate([Y_anger_predicted[anger_test['intensity'] >= 0.5],\n",
    "                                             Y_fear_predicted[fear_test['intensity'] >= 0.5],\n",
    "                                             Y_joy_predicted[joy_test['intensity'] >= 0.5],\n",
    "                                             Y_sad_predicted[sad_test['intensity'] >= 0.5]])\n",
    "\n",
    "high_intensity_pearson = pearsonr(high_intensity_subset['intensity'], Y_high_intensity_predicted[:, 0])[0]\n",
    "high_intensity_spearman = spearmanr(high_intensity_subset['intensity'], Y_high_intensity_predicted[:, 0])[0]"
   ]
  },
  {
   "cell_type": "code",
   "execution_count": 27,
   "id": "3876d84e",
   "metadata": {},
   "outputs": [
    {
     "name": "stdout",
     "output_type": "stream",
     "text": [
      "Pearson Correlation on High Intensity Subset: 0.24317050105375643\n",
      "Spearman Correlation on High Intensity Subset: 0.23101876983135647\n"
     ]
    }
   ],
   "source": [
    "print(\"Pearson Correlation on High Intensity Subset:\", high_intensity_pearson)\n",
    "print(\"Spearman Correlation on High Intensity Subset:\", high_intensity_spearman)"
   ]
  },
  {
   "cell_type": "code",
   "execution_count": null,
   "id": "93d74485",
   "metadata": {},
   "outputs": [],
   "source": []
  }
 ],
 "metadata": {
  "kernelspec": {
   "display_name": "Python 3 (ipykernel)",
   "language": "python",
   "name": "python3"
  },
  "language_info": {
   "codemirror_mode": {
    "name": "ipython",
    "version": 3
   },
   "file_extension": ".py",
   "mimetype": "text/x-python",
   "name": "python",
   "nbconvert_exporter": "python",
   "pygments_lexer": "ipython3",
   "version": "3.9.13"
  }
 },
 "nbformat": 4,
 "nbformat_minor": 5
}
